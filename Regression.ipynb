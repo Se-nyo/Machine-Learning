{
 "cells": [
  {
   "cell_type": "code",
   "id": "initial_id",
   "metadata": {
    "collapsed": true,
    "ExecuteTime": {
     "end_time": "2025-08-11T02:18:09.845570Z",
     "start_time": "2025-08-11T02:18:07.585225Z"
    }
   },
   "source": [
    "import pandas as pd\n",
    "import yfinance as yf\n",
    "import math as m\n",
    "import numpy as np\n",
    "from sklearn import preprocessing, model_selection,svm\n",
    "from sklearn.linear_model import LinearRegression"
   ],
   "outputs": [],
   "execution_count": 1
  },
  {
   "metadata": {
    "ExecuteTime": {
     "end_time": "2025-08-11T02:18:13.648138Z",
     "start_time": "2025-08-11T02:18:11.095655Z"
    }
   },
   "cell_type": "code",
   "source": "df = yf.download(tickers=\"GOOGl\", period=\"5y\")",
   "id": "891b9c8e18775ca9",
   "outputs": [
    {
     "name": "stderr",
     "output_type": "stream",
     "text": [
      "/tmp/ipykernel_33654/2795818380.py:1: FutureWarning: YF.download() has changed argument auto_adjust default to True\n",
      "  df = yf.download(tickers=\"GOOGl\", period=\"5y\")\n",
      "[*********************100%***********************]  1 of 1 completed\n"
     ]
    }
   ],
   "execution_count": 2
  },
  {
   "metadata": {
    "ExecuteTime": {
     "end_time": "2025-08-11T02:18:15.886986Z",
     "start_time": "2025-08-11T02:18:15.871676Z"
    }
   },
   "cell_type": "code",
   "source": "df['highLowPercent'] = (df['High'] - df['Close'])/ df['Close'] * 100",
   "id": "ecd9cb9121721a79",
   "outputs": [],
   "execution_count": 3
  },
  {
   "metadata": {
    "ExecuteTime": {
     "end_time": "2025-08-11T02:18:16.938622Z",
     "start_time": "2025-08-11T02:18:16.924995Z"
    }
   },
   "cell_type": "code",
   "source": "df['percentChange'] = (df['Close'] - df['Open']) / df['Open'] * 100",
   "id": "c21a52b6b4ce4acb",
   "outputs": [],
   "execution_count": 4
  },
  {
   "metadata": {
    "ExecuteTime": {
     "end_time": "2025-08-11T02:18:18.461146Z",
     "start_time": "2025-08-11T02:18:18.451422Z"
    }
   },
   "cell_type": "code",
   "source": "df = df[['Close','highLowPercent','percentChange','Volume']]",
   "id": "d1a634d21a13fd21",
   "outputs": [],
   "execution_count": 5
  },
  {
   "metadata": {
    "ExecuteTime": {
     "end_time": "2025-08-11T02:18:20.948445Z",
     "start_time": "2025-08-11T02:18:20.918629Z"
    }
   },
   "cell_type": "code",
   "source": "df.head()",
   "id": "15226a3c86e935a0",
   "outputs": [
    {
     "data": {
      "text/plain": [
       "Price           Close highLowPercent percentChange    Volume\n",
       "Ticker          GOOGL                                  GOOGL\n",
       "Date                                                        \n",
       "2020-08-10  74.394829       0.690123      0.403813  20546000\n",
       "2020-08-11  73.585678       2.019537     -0.900932  31098000\n",
       "2020-08-12  74.912727       0.293920      1.352946  22512000\n",
       "2020-08-13  75.380417       1.339804      0.559600  22388000\n",
       "2020-08-14  74.782997       1.007561     -0.593280  21942000"
      ],
      "text/html": [
       "<div>\n",
       "<style scoped>\n",
       "    .dataframe tbody tr th:only-of-type {\n",
       "        vertical-align: middle;\n",
       "    }\n",
       "\n",
       "    .dataframe tbody tr th {\n",
       "        vertical-align: top;\n",
       "    }\n",
       "\n",
       "    .dataframe thead tr th {\n",
       "        text-align: left;\n",
       "    }\n",
       "\n",
       "    .dataframe thead tr:last-of-type th {\n",
       "        text-align: right;\n",
       "    }\n",
       "</style>\n",
       "<table border=\"1\" class=\"dataframe\">\n",
       "  <thead>\n",
       "    <tr>\n",
       "      <th>Price</th>\n",
       "      <th>Close</th>\n",
       "      <th>highLowPercent</th>\n",
       "      <th>percentChange</th>\n",
       "      <th>Volume</th>\n",
       "    </tr>\n",
       "    <tr>\n",
       "      <th>Ticker</th>\n",
       "      <th>GOOGL</th>\n",
       "      <th></th>\n",
       "      <th></th>\n",
       "      <th>GOOGL</th>\n",
       "    </tr>\n",
       "    <tr>\n",
       "      <th>Date</th>\n",
       "      <th></th>\n",
       "      <th></th>\n",
       "      <th></th>\n",
       "      <th></th>\n",
       "    </tr>\n",
       "  </thead>\n",
       "  <tbody>\n",
       "    <tr>\n",
       "      <th>2020-08-10</th>\n",
       "      <td>74.394829</td>\n",
       "      <td>0.690123</td>\n",
       "      <td>0.403813</td>\n",
       "      <td>20546000</td>\n",
       "    </tr>\n",
       "    <tr>\n",
       "      <th>2020-08-11</th>\n",
       "      <td>73.585678</td>\n",
       "      <td>2.019537</td>\n",
       "      <td>-0.900932</td>\n",
       "      <td>31098000</td>\n",
       "    </tr>\n",
       "    <tr>\n",
       "      <th>2020-08-12</th>\n",
       "      <td>74.912727</td>\n",
       "      <td>0.293920</td>\n",
       "      <td>1.352946</td>\n",
       "      <td>22512000</td>\n",
       "    </tr>\n",
       "    <tr>\n",
       "      <th>2020-08-13</th>\n",
       "      <td>75.380417</td>\n",
       "      <td>1.339804</td>\n",
       "      <td>0.559600</td>\n",
       "      <td>22388000</td>\n",
       "    </tr>\n",
       "    <tr>\n",
       "      <th>2020-08-14</th>\n",
       "      <td>74.782997</td>\n",
       "      <td>1.007561</td>\n",
       "      <td>-0.593280</td>\n",
       "      <td>21942000</td>\n",
       "    </tr>\n",
       "  </tbody>\n",
       "</table>\n",
       "</div>"
      ]
     },
     "execution_count": 6,
     "metadata": {},
     "output_type": "execute_result"
    }
   ],
   "execution_count": 6
  },
  {
   "metadata": {
    "ExecuteTime": {
     "end_time": "2025-08-11T02:18:23.289557Z",
     "start_time": "2025-08-11T02:18:23.282830Z"
    }
   },
   "cell_type": "code",
   "source": "forecast = \"Close\"",
   "id": "aad9f4677911b08e",
   "outputs": [],
   "execution_count": 7
  },
  {
   "metadata": {
    "ExecuteTime": {
     "end_time": "2025-08-11T02:18:24.349961Z",
     "start_time": "2025-08-11T02:18:24.342247Z"
    }
   },
   "cell_type": "code",
   "source": "df.fillna(-99999, inplace=True)",
   "id": "79725265774f62f4",
   "outputs": [],
   "execution_count": 8
  },
  {
   "metadata": {
    "ExecuteTime": {
     "end_time": "2025-08-11T02:18:25.272400Z",
     "start_time": "2025-08-11T02:18:25.266385Z"
    }
   },
   "cell_type": "code",
   "source": "forecastOut = int(m.ceil(0.01*len(df)))",
   "id": "f84f0c0286f9a77c",
   "outputs": [],
   "execution_count": 9
  },
  {
   "metadata": {
    "ExecuteTime": {
     "end_time": "2025-08-11T02:18:26.359543Z",
     "start_time": "2025-08-11T02:18:26.348014Z"
    }
   },
   "cell_type": "code",
   "source": "df['label'] = df[forecast].shift(-forecastOut)",
   "id": "4e71f141057f5aca",
   "outputs": [],
   "execution_count": 10
  },
  {
   "metadata": {
    "ExecuteTime": {
     "end_time": "2025-08-11T02:18:27.166203Z",
     "start_time": "2025-08-11T02:18:27.155789Z"
    }
   },
   "cell_type": "code",
   "source": "df.dropna(inplace=True)",
   "id": "2031dd38d9d9d4e6",
   "outputs": [],
   "execution_count": 11
  },
  {
   "metadata": {
    "ExecuteTime": {
     "end_time": "2025-08-11T02:18:29.811879Z",
     "start_time": "2025-08-11T02:18:29.807695Z"
    }
   },
   "cell_type": "code",
   "source": "",
   "id": "175ebf4ee39da5e4",
   "outputs": [],
   "execution_count": null
  },
  {
   "metadata": {
    "ExecuteTime": {
     "end_time": "2025-08-11T02:18:31.208609Z",
     "start_time": "2025-08-11T02:18:31.196180Z"
    }
   },
   "cell_type": "code",
   "source": [
    "X = np.array(df.drop(['label'],axis=1))\n",
    "y = np.array(df['label'])"
   ],
   "id": "1fbe0e4eacc21ccd",
   "outputs": [
    {
     "name": "stderr",
     "output_type": "stream",
     "text": [
      "/tmp/ipykernel_33654/2396172898.py:1: PerformanceWarning: dropping on a non-lexsorted multi-index without a level parameter may impact performance.\n",
      "  X = np.array(df.drop(['label'],axis=1))\n"
     ]
    }
   ],
   "execution_count": 12
  },
  {
   "metadata": {
    "ExecuteTime": {
     "end_time": "2025-08-11T02:18:33.566093Z",
     "start_time": "2025-08-11T02:18:33.556637Z"
    }
   },
   "cell_type": "code",
   "source": "X = preprocessing.scale(X)",
   "id": "39b81b4baf7f6942",
   "outputs": [],
   "execution_count": 13
  },
  {
   "metadata": {
    "ExecuteTime": {
     "end_time": "2025-08-11T02:18:36.407981Z",
     "start_time": "2025-08-11T02:18:36.401363Z"
    }
   },
   "cell_type": "code",
   "source": "y = np.array(df['label'])",
   "id": "7a6695dab5dd5fb0",
   "outputs": [],
   "execution_count": 16
  },
  {
   "metadata": {
    "ExecuteTime": {
     "end_time": "2025-08-11T02:18:37.239497Z",
     "start_time": "2025-08-11T02:18:37.232651Z"
    }
   },
   "cell_type": "code",
   "source": "print(len(X),len(y))",
   "id": "d311a7123cf5771a",
   "outputs": [
    {
     "name": "stdout",
     "output_type": "stream",
     "text": [
      "1243 1243\n"
     ]
    }
   ],
   "execution_count": 17
  },
  {
   "metadata": {},
   "cell_type": "code",
   "outputs": [],
   "execution_count": null,
   "source": "",
   "id": "c5d2ad0fc02b76a3"
  }
 ],
 "metadata": {
  "kernelspec": {
   "display_name": "Python 3",
   "language": "python",
   "name": "python3"
  },
  "language_info": {
   "codemirror_mode": {
    "name": "ipython",
    "version": 2
   },
   "file_extension": ".py",
   "mimetype": "text/x-python",
   "name": "python",
   "nbconvert_exporter": "python",
   "pygments_lexer": "ipython2",
   "version": "2.7.6"
  }
 },
 "nbformat": 4,
 "nbformat_minor": 5
}
