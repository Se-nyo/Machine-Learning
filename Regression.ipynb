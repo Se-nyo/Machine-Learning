{
 "cells": [
  {
   "cell_type": "code",
   "id": "initial_id",
   "metadata": {
    "collapsed": true,
    "ExecuteTime": {
     "end_time": "2025-08-11T00:52:43.512043Z",
     "start_time": "2025-08-11T00:52:42.545913Z"
    }
   },
   "source": [
    "import pandas as pd\n",
    "import yfinance as yf"
   ],
   "outputs": [],
   "execution_count": 4
  },
  {
   "metadata": {
    "ExecuteTime": {
     "end_time": "2025-08-11T01:15:04.726495Z",
     "start_time": "2025-08-11T01:15:03.247041Z"
    }
   },
   "cell_type": "code",
   "source": "df = yf.download(tickers=\"GOOGl\", period=\"5y\")",
   "id": "891b9c8e18775ca9",
   "outputs": [
    {
     "name": "stderr",
     "output_type": "stream",
     "text": [
      "/tmp/ipykernel_19414/2795818380.py:1: FutureWarning: YF.download() has changed argument auto_adjust default to True\n",
      "  df = yf.download(tickers=\"GOOGl\", period=\"5y\")\n",
      "[*********************100%***********************]  1 of 1 completed\n"
     ]
    }
   ],
   "execution_count": 20
  },
  {
   "metadata": {
    "ExecuteTime": {
     "end_time": "2025-08-11T01:15:05.271814Z",
     "start_time": "2025-08-11T01:15:05.255661Z"
    }
   },
   "cell_type": "code",
   "source": "df.head()",
   "id": "e4cdc97c4fc2c7f",
   "outputs": [
    {
     "data": {
      "text/plain": [
       "Price           Close       High        Low       Open    Volume\n",
       "Ticker          GOOGL      GOOGL      GOOGL      GOOGL     GOOGL\n",
       "Date                                                            \n",
       "2020-08-10  74.394836  74.908252  73.434091  74.095628  20546000\n",
       "2020-08-11  73.585686  75.071776  73.468886  74.254670  31098000\n",
       "2020-08-12  74.912727  75.132911  73.807357  73.912728  22512000\n",
       "2020-08-13  75.380409  76.390359  74.960928  74.960928  22388000\n",
       "2020-08-14  74.782997  75.536481  74.503174  75.229318  21942000"
      ],
      "text/html": [
       "<div>\n",
       "<style scoped>\n",
       "    .dataframe tbody tr th:only-of-type {\n",
       "        vertical-align: middle;\n",
       "    }\n",
       "\n",
       "    .dataframe tbody tr th {\n",
       "        vertical-align: top;\n",
       "    }\n",
       "\n",
       "    .dataframe thead tr th {\n",
       "        text-align: left;\n",
       "    }\n",
       "\n",
       "    .dataframe thead tr:last-of-type th {\n",
       "        text-align: right;\n",
       "    }\n",
       "</style>\n",
       "<table border=\"1\" class=\"dataframe\">\n",
       "  <thead>\n",
       "    <tr>\n",
       "      <th>Price</th>\n",
       "      <th>Close</th>\n",
       "      <th>High</th>\n",
       "      <th>Low</th>\n",
       "      <th>Open</th>\n",
       "      <th>Volume</th>\n",
       "    </tr>\n",
       "    <tr>\n",
       "      <th>Ticker</th>\n",
       "      <th>GOOGL</th>\n",
       "      <th>GOOGL</th>\n",
       "      <th>GOOGL</th>\n",
       "      <th>GOOGL</th>\n",
       "      <th>GOOGL</th>\n",
       "    </tr>\n",
       "    <tr>\n",
       "      <th>Date</th>\n",
       "      <th></th>\n",
       "      <th></th>\n",
       "      <th></th>\n",
       "      <th></th>\n",
       "      <th></th>\n",
       "    </tr>\n",
       "  </thead>\n",
       "  <tbody>\n",
       "    <tr>\n",
       "      <th>2020-08-10</th>\n",
       "      <td>74.394836</td>\n",
       "      <td>74.908252</td>\n",
       "      <td>73.434091</td>\n",
       "      <td>74.095628</td>\n",
       "      <td>20546000</td>\n",
       "    </tr>\n",
       "    <tr>\n",
       "      <th>2020-08-11</th>\n",
       "      <td>73.585686</td>\n",
       "      <td>75.071776</td>\n",
       "      <td>73.468886</td>\n",
       "      <td>74.254670</td>\n",
       "      <td>31098000</td>\n",
       "    </tr>\n",
       "    <tr>\n",
       "      <th>2020-08-12</th>\n",
       "      <td>74.912727</td>\n",
       "      <td>75.132911</td>\n",
       "      <td>73.807357</td>\n",
       "      <td>73.912728</td>\n",
       "      <td>22512000</td>\n",
       "    </tr>\n",
       "    <tr>\n",
       "      <th>2020-08-13</th>\n",
       "      <td>75.380409</td>\n",
       "      <td>76.390359</td>\n",
       "      <td>74.960928</td>\n",
       "      <td>74.960928</td>\n",
       "      <td>22388000</td>\n",
       "    </tr>\n",
       "    <tr>\n",
       "      <th>2020-08-14</th>\n",
       "      <td>74.782997</td>\n",
       "      <td>75.536481</td>\n",
       "      <td>74.503174</td>\n",
       "      <td>75.229318</td>\n",
       "      <td>21942000</td>\n",
       "    </tr>\n",
       "  </tbody>\n",
       "</table>\n",
       "</div>"
      ]
     },
     "execution_count": 21,
     "metadata": {},
     "output_type": "execute_result"
    }
   ],
   "execution_count": 21
  },
  {
   "metadata": {
    "ExecuteTime": {
     "end_time": "2025-08-11T01:15:08.251132Z",
     "start_time": "2025-08-11T01:15:08.240312Z"
    }
   },
   "cell_type": "code",
   "source": "df['highLowPercent'] = (df['High'] - df['Low']/ df['Low']) * 100",
   "id": "ecd9cb9121721a79",
   "outputs": [],
   "execution_count": 22
  },
  {
   "metadata": {
    "ExecuteTime": {
     "end_time": "2025-08-11T01:15:09.239079Z",
     "start_time": "2025-08-11T01:15:09.229415Z"
    }
   },
   "cell_type": "code",
   "source": "df['percentChange'] = (df['Close'] - df['Open']) / df['Open'] * 100",
   "id": "c21a52b6b4ce4acb",
   "outputs": [],
   "execution_count": 23
  },
  {
   "metadata": {
    "ExecuteTime": {
     "end_time": "2025-08-11T01:15:10.111082Z",
     "start_time": "2025-08-11T01:15:10.103441Z"
    }
   },
   "cell_type": "code",
   "source": "df = df[['Close','highLowPercent','percentChange','Volume']]",
   "id": "d1a634d21a13fd21",
   "outputs": [],
   "execution_count": 24
  },
  {
   "metadata": {
    "ExecuteTime": {
     "end_time": "2025-08-11T01:15:14.462526Z",
     "start_time": "2025-08-11T01:15:14.446607Z"
    }
   },
   "cell_type": "code",
   "source": "df.head()",
   "id": "15226a3c86e935a0",
   "outputs": [
    {
     "data": {
      "text/plain": [
       "Price           Close highLowPercent percentChange    Volume\n",
       "Ticker          GOOGL                                  GOOGL\n",
       "Date                                                        \n",
       "2020-08-10  74.394836    7390.825208      0.403813  20546000\n",
       "2020-08-11  73.585686    7407.177596     -0.900932  31098000\n",
       "2020-08-12  74.912727    7413.291107      1.352946  22512000\n",
       "2020-08-13  75.380409    7539.035863      0.559600  22388000\n",
       "2020-08-14  74.782997    7453.648144     -0.593280  21942000"
      ],
      "text/html": [
       "<div>\n",
       "<style scoped>\n",
       "    .dataframe tbody tr th:only-of-type {\n",
       "        vertical-align: middle;\n",
       "    }\n",
       "\n",
       "    .dataframe tbody tr th {\n",
       "        vertical-align: top;\n",
       "    }\n",
       "\n",
       "    .dataframe thead tr th {\n",
       "        text-align: left;\n",
       "    }\n",
       "\n",
       "    .dataframe thead tr:last-of-type th {\n",
       "        text-align: right;\n",
       "    }\n",
       "</style>\n",
       "<table border=\"1\" class=\"dataframe\">\n",
       "  <thead>\n",
       "    <tr>\n",
       "      <th>Price</th>\n",
       "      <th>Close</th>\n",
       "      <th>highLowPercent</th>\n",
       "      <th>percentChange</th>\n",
       "      <th>Volume</th>\n",
       "    </tr>\n",
       "    <tr>\n",
       "      <th>Ticker</th>\n",
       "      <th>GOOGL</th>\n",
       "      <th></th>\n",
       "      <th></th>\n",
       "      <th>GOOGL</th>\n",
       "    </tr>\n",
       "    <tr>\n",
       "      <th>Date</th>\n",
       "      <th></th>\n",
       "      <th></th>\n",
       "      <th></th>\n",
       "      <th></th>\n",
       "    </tr>\n",
       "  </thead>\n",
       "  <tbody>\n",
       "    <tr>\n",
       "      <th>2020-08-10</th>\n",
       "      <td>74.394836</td>\n",
       "      <td>7390.825208</td>\n",
       "      <td>0.403813</td>\n",
       "      <td>20546000</td>\n",
       "    </tr>\n",
       "    <tr>\n",
       "      <th>2020-08-11</th>\n",
       "      <td>73.585686</td>\n",
       "      <td>7407.177596</td>\n",
       "      <td>-0.900932</td>\n",
       "      <td>31098000</td>\n",
       "    </tr>\n",
       "    <tr>\n",
       "      <th>2020-08-12</th>\n",
       "      <td>74.912727</td>\n",
       "      <td>7413.291107</td>\n",
       "      <td>1.352946</td>\n",
       "      <td>22512000</td>\n",
       "    </tr>\n",
       "    <tr>\n",
       "      <th>2020-08-13</th>\n",
       "      <td>75.380409</td>\n",
       "      <td>7539.035863</td>\n",
       "      <td>0.559600</td>\n",
       "      <td>22388000</td>\n",
       "    </tr>\n",
       "    <tr>\n",
       "      <th>2020-08-14</th>\n",
       "      <td>74.782997</td>\n",
       "      <td>7453.648144</td>\n",
       "      <td>-0.593280</td>\n",
       "      <td>21942000</td>\n",
       "    </tr>\n",
       "  </tbody>\n",
       "</table>\n",
       "</div>"
      ]
     },
     "execution_count": 25,
     "metadata": {},
     "output_type": "execute_result"
    }
   ],
   "execution_count": 25
  },
  {
   "metadata": {},
   "cell_type": "code",
   "outputs": [],
   "execution_count": null,
   "source": "",
   "id": "aad9f4677911b08e"
  }
 ],
 "metadata": {
  "kernelspec": {
   "display_name": "Python 3",
   "language": "python",
   "name": "python3"
  },
  "language_info": {
   "codemirror_mode": {
    "name": "ipython",
    "version": 2
   },
   "file_extension": ".py",
   "mimetype": "text/x-python",
   "name": "python",
   "nbconvert_exporter": "python",
   "pygments_lexer": "ipython2",
   "version": "2.7.6"
  }
 },
 "nbformat": 4,
 "nbformat_minor": 5
}
