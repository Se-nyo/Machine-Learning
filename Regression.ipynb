{
 "cells": [
  {
   "cell_type": "code",
   "id": "initial_id",
   "metadata": {
    "collapsed": true,
    "ExecuteTime": {
     "end_time": "2025-08-11T01:30:33.570653Z",
     "start_time": "2025-08-11T01:30:33.565184Z"
    }
   },
   "source": [
    "import pandas as pd\n",
    "import yfinance as yf\n",
    "import math as m"
   ],
   "outputs": [],
   "execution_count": 41
  },
  {
   "metadata": {
    "ExecuteTime": {
     "end_time": "2025-08-11T01:21:28.217843Z",
     "start_time": "2025-08-11T01:21:26.679475Z"
    }
   },
   "cell_type": "code",
   "source": "df = yf.download(tickers=\"GOOGl\", period=\"5y\")",
   "id": "891b9c8e18775ca9",
   "outputs": [
    {
     "name": "stderr",
     "output_type": "stream",
     "text": [
      "/tmp/ipykernel_19414/2795818380.py:1: FutureWarning: YF.download() has changed argument auto_adjust default to True\n",
      "  df = yf.download(tickers=\"GOOGl\", period=\"5y\")\n",
      "[*********************100%***********************]  1 of 1 completed\n"
     ]
    }
   ],
   "execution_count": 34
  },
  {
   "metadata": {
    "ExecuteTime": {
     "end_time": "2025-08-11T01:21:29.434785Z",
     "start_time": "2025-08-11T01:21:29.424887Z"
    }
   },
   "cell_type": "code",
   "source": "df['highLowPercent'] = (df['High'] - df['Close'])/ df['Close'] * 100",
   "id": "ecd9cb9121721a79",
   "outputs": [],
   "execution_count": 35
  },
  {
   "metadata": {
    "ExecuteTime": {
     "end_time": "2025-08-11T01:21:31.145699Z",
     "start_time": "2025-08-11T01:21:31.133489Z"
    }
   },
   "cell_type": "code",
   "source": "df['percentChange'] = (df['Close'] - df['Open']) / df['Open'] * 100",
   "id": "c21a52b6b4ce4acb",
   "outputs": [],
   "execution_count": 36
  },
  {
   "metadata": {
    "ExecuteTime": {
     "end_time": "2025-08-11T01:21:32.244181Z",
     "start_time": "2025-08-11T01:21:32.236461Z"
    }
   },
   "cell_type": "code",
   "source": "df = df[['Close','highLowPercent','percentChange','Volume']]",
   "id": "d1a634d21a13fd21",
   "outputs": [],
   "execution_count": 37
  },
  {
   "metadata": {
    "ExecuteTime": {
     "end_time": "2025-08-11T01:21:36.757074Z",
     "start_time": "2025-08-11T01:21:36.741443Z"
    }
   },
   "cell_type": "code",
   "source": "df.head()",
   "id": "15226a3c86e935a0",
   "outputs": [
    {
     "data": {
      "text/plain": [
       "Price           Close highLowPercent percentChange    Volume\n",
       "Ticker          GOOGL                                  GOOGL\n",
       "Date                                                        \n",
       "2020-08-10  74.394836       0.690123      0.403813  20546000\n",
       "2020-08-11  73.585693       2.019537     -0.900932  31098000\n",
       "2020-08-12  74.912727       0.293920      1.352946  22512000\n",
       "2020-08-13  75.380409       1.339804      0.559600  22388000\n",
       "2020-08-14  74.782990       1.007561     -0.593280  21942000"
      ],
      "text/html": [
       "<div>\n",
       "<style scoped>\n",
       "    .dataframe tbody tr th:only-of-type {\n",
       "        vertical-align: middle;\n",
       "    }\n",
       "\n",
       "    .dataframe tbody tr th {\n",
       "        vertical-align: top;\n",
       "    }\n",
       "\n",
       "    .dataframe thead tr th {\n",
       "        text-align: left;\n",
       "    }\n",
       "\n",
       "    .dataframe thead tr:last-of-type th {\n",
       "        text-align: right;\n",
       "    }\n",
       "</style>\n",
       "<table border=\"1\" class=\"dataframe\">\n",
       "  <thead>\n",
       "    <tr>\n",
       "      <th>Price</th>\n",
       "      <th>Close</th>\n",
       "      <th>highLowPercent</th>\n",
       "      <th>percentChange</th>\n",
       "      <th>Volume</th>\n",
       "    </tr>\n",
       "    <tr>\n",
       "      <th>Ticker</th>\n",
       "      <th>GOOGL</th>\n",
       "      <th></th>\n",
       "      <th></th>\n",
       "      <th>GOOGL</th>\n",
       "    </tr>\n",
       "    <tr>\n",
       "      <th>Date</th>\n",
       "      <th></th>\n",
       "      <th></th>\n",
       "      <th></th>\n",
       "      <th></th>\n",
       "    </tr>\n",
       "  </thead>\n",
       "  <tbody>\n",
       "    <tr>\n",
       "      <th>2020-08-10</th>\n",
       "      <td>74.394836</td>\n",
       "      <td>0.690123</td>\n",
       "      <td>0.403813</td>\n",
       "      <td>20546000</td>\n",
       "    </tr>\n",
       "    <tr>\n",
       "      <th>2020-08-11</th>\n",
       "      <td>73.585693</td>\n",
       "      <td>2.019537</td>\n",
       "      <td>-0.900932</td>\n",
       "      <td>31098000</td>\n",
       "    </tr>\n",
       "    <tr>\n",
       "      <th>2020-08-12</th>\n",
       "      <td>74.912727</td>\n",
       "      <td>0.293920</td>\n",
       "      <td>1.352946</td>\n",
       "      <td>22512000</td>\n",
       "    </tr>\n",
       "    <tr>\n",
       "      <th>2020-08-13</th>\n",
       "      <td>75.380409</td>\n",
       "      <td>1.339804</td>\n",
       "      <td>0.559600</td>\n",
       "      <td>22388000</td>\n",
       "    </tr>\n",
       "    <tr>\n",
       "      <th>2020-08-14</th>\n",
       "      <td>74.782990</td>\n",
       "      <td>1.007561</td>\n",
       "      <td>-0.593280</td>\n",
       "      <td>21942000</td>\n",
       "    </tr>\n",
       "  </tbody>\n",
       "</table>\n",
       "</div>"
      ]
     },
     "execution_count": 38,
     "metadata": {},
     "output_type": "execute_result"
    }
   ],
   "execution_count": 38
  },
  {
   "metadata": {
    "ExecuteTime": {
     "end_time": "2025-08-11T01:39:38.431819Z",
     "start_time": "2025-08-11T01:39:38.425830Z"
    }
   },
   "cell_type": "code",
   "source": "forecast = \"Close\"",
   "id": "aad9f4677911b08e",
   "outputs": [],
   "execution_count": 44
  },
  {
   "metadata": {
    "ExecuteTime": {
     "end_time": "2025-08-11T01:39:39.329081Z",
     "start_time": "2025-08-11T01:39:39.323037Z"
    }
   },
   "cell_type": "code",
   "source": "df.fillna(-99999, inplace=True)",
   "id": "79725265774f62f4",
   "outputs": [],
   "execution_count": 45
  },
  {
   "metadata": {
    "ExecuteTime": {
     "end_time": "2025-08-11T01:41:23.165676Z",
     "start_time": "2025-08-11T01:41:23.160240Z"
    }
   },
   "cell_type": "code",
   "source": "forecastOut = int(m.ceil(0.01*len(df)))",
   "id": "f84f0c0286f9a77c",
   "outputs": [],
   "execution_count": 51
  },
  {
   "metadata": {
    "ExecuteTime": {
     "end_time": "2025-08-11T01:39:59.778757Z",
     "start_time": "2025-08-11T01:39:59.763774Z"
    }
   },
   "cell_type": "code",
   "source": "df['label'] = df[forecast].shift(-forecastOut)",
   "id": "4e71f141057f5aca",
   "outputs": [],
   "execution_count": 48
  },
  {
   "metadata": {
    "ExecuteTime": {
     "end_time": "2025-08-11T01:43:28.607345Z",
     "start_time": "2025-08-11T01:43:28.596427Z"
    }
   },
   "cell_type": "code",
   "source": "df.dropna(inplace=True)",
   "id": "2031dd38d9d9d4e6",
   "outputs": [],
   "execution_count": 54
  },
  {
   "metadata": {
    "ExecuteTime": {
     "end_time": "2025-08-11T01:43:53.917408Z",
     "start_time": "2025-08-11T01:43:53.897944Z"
    }
   },
   "cell_type": "code",
   "source": "df.tail()",
   "id": "175ebf4ee39da5e4",
   "outputs": [
    {
     "data": {
      "text/plain": [
       "Price            Close highLowPercent percentChange    Volume       label\n",
       "Ticker           GOOGL                                  GOOGL            \n",
       "Date                                                                     \n",
       "2025-07-16  182.970001       0.743292     -0.147350  33104200  195.039993\n",
       "2025-07-17  183.580002       0.261464      0.790602  31992600  194.669998\n",
       "2025-07-18  185.059998       0.734897     -0.183385  34014500  196.089996\n",
       "2025-07-21  190.100006       0.099941      2.067117  45803100  196.520004\n",
       "2025-07-22  191.339996       0.162014     -0.083553  44660200  201.419998"
      ],
      "text/html": [
       "<div>\n",
       "<style scoped>\n",
       "    .dataframe tbody tr th:only-of-type {\n",
       "        vertical-align: middle;\n",
       "    }\n",
       "\n",
       "    .dataframe tbody tr th {\n",
       "        vertical-align: top;\n",
       "    }\n",
       "\n",
       "    .dataframe thead tr th {\n",
       "        text-align: left;\n",
       "    }\n",
       "\n",
       "    .dataframe thead tr:last-of-type th {\n",
       "        text-align: right;\n",
       "    }\n",
       "</style>\n",
       "<table border=\"1\" class=\"dataframe\">\n",
       "  <thead>\n",
       "    <tr>\n",
       "      <th>Price</th>\n",
       "      <th>Close</th>\n",
       "      <th>highLowPercent</th>\n",
       "      <th>percentChange</th>\n",
       "      <th>Volume</th>\n",
       "      <th>label</th>\n",
       "    </tr>\n",
       "    <tr>\n",
       "      <th>Ticker</th>\n",
       "      <th>GOOGL</th>\n",
       "      <th></th>\n",
       "      <th></th>\n",
       "      <th>GOOGL</th>\n",
       "      <th></th>\n",
       "    </tr>\n",
       "    <tr>\n",
       "      <th>Date</th>\n",
       "      <th></th>\n",
       "      <th></th>\n",
       "      <th></th>\n",
       "      <th></th>\n",
       "      <th></th>\n",
       "    </tr>\n",
       "  </thead>\n",
       "  <tbody>\n",
       "    <tr>\n",
       "      <th>2025-07-16</th>\n",
       "      <td>182.970001</td>\n",
       "      <td>0.743292</td>\n",
       "      <td>-0.147350</td>\n",
       "      <td>33104200</td>\n",
       "      <td>195.039993</td>\n",
       "    </tr>\n",
       "    <tr>\n",
       "      <th>2025-07-17</th>\n",
       "      <td>183.580002</td>\n",
       "      <td>0.261464</td>\n",
       "      <td>0.790602</td>\n",
       "      <td>31992600</td>\n",
       "      <td>194.669998</td>\n",
       "    </tr>\n",
       "    <tr>\n",
       "      <th>2025-07-18</th>\n",
       "      <td>185.059998</td>\n",
       "      <td>0.734897</td>\n",
       "      <td>-0.183385</td>\n",
       "      <td>34014500</td>\n",
       "      <td>196.089996</td>\n",
       "    </tr>\n",
       "    <tr>\n",
       "      <th>2025-07-21</th>\n",
       "      <td>190.100006</td>\n",
       "      <td>0.099941</td>\n",
       "      <td>2.067117</td>\n",
       "      <td>45803100</td>\n",
       "      <td>196.520004</td>\n",
       "    </tr>\n",
       "    <tr>\n",
       "      <th>2025-07-22</th>\n",
       "      <td>191.339996</td>\n",
       "      <td>0.162014</td>\n",
       "      <td>-0.083553</td>\n",
       "      <td>44660200</td>\n",
       "      <td>201.419998</td>\n",
       "    </tr>\n",
       "  </tbody>\n",
       "</table>\n",
       "</div>"
      ]
     },
     "execution_count": 55,
     "metadata": {},
     "output_type": "execute_result"
    }
   ],
   "execution_count": 55
  },
  {
   "metadata": {},
   "cell_type": "code",
   "outputs": [],
   "execution_count": null,
   "source": "",
   "id": "1fbe0e4eacc21ccd"
  }
 ],
 "metadata": {
  "kernelspec": {
   "display_name": "Python 3",
   "language": "python",
   "name": "python3"
  },
  "language_info": {
   "codemirror_mode": {
    "name": "ipython",
    "version": 2
   },
   "file_extension": ".py",
   "mimetype": "text/x-python",
   "name": "python",
   "nbconvert_exporter": "python",
   "pygments_lexer": "ipython2",
   "version": "2.7.6"
  }
 },
 "nbformat": 4,
 "nbformat_minor": 5
}
